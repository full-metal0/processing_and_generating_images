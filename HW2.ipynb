{
 "cells": [
  {
   "cell_type": "code",
   "execution_count": 1,
   "id": "38090da9-25e7-4ed6-a796-dbc6ce9022ec",
   "metadata": {},
   "outputs": [],
   "source": [
    "import numpy as np\n",
    "import tensorflow as tf\n",
    "from tensorflow import keras\n",
    "import matplotlib.pyplot as plt\n",
    "import pandas as pd\n",
    "from tensorflow.keras import layers, models\n",
    "from sklearn.model_selection import train_test_split\n",
    "from sklearn.metrics import confusion_matrix\n",
    "from sklearn.tree import DecisionTreeClassifier\n",
    "from sklearn import tree\n",
    "import seaborn as sns\n",
    "import cv2\n",
    "import glob\n",
    "import os"
   ]
  },
  {
   "cell_type": "code",
   "execution_count": 2,
   "id": "638a131e-30f0-428f-aa0d-7b56f1ced067",
   "metadata": {},
   "outputs": [],
   "source": [
    "keras.utils.set_random_seed(42)"
   ]
  },
  {
   "cell_type": "code",
   "execution_count": 3,
   "id": "5aca7a94-2778-4491-9e80-54058741c172",
   "metadata": {},
   "outputs": [
    {
     "name": "stdout",
     "output_type": "stream",
     "text": [
      "Total images: 10000\n"
     ]
    }
   ],
   "source": [
    "img_dir = \"dataset/train/\"\n",
    "img_files = [os.path.join(img_dir, f) for f in os.listdir(img_dir) if f.endswith('.jpg')]\n",
    "print(f\"Total images: {len(img_files)}\")"
   ]
  },
  {
   "cell_type": "code",
   "execution_count": 4,
   "id": "305834a0-081f-4774-b93f-6a82ecf46ed6",
   "metadata": {},
   "outputs": [
    {
     "name": "stdout",
     "output_type": "stream",
     "text": [
      "Dimensions of the first image: (27, 48, 3)\n"
     ]
    },
    {
     "data": {
      "text/plain": [
       "<matplotlib.image.AxesImage at 0x16b17d210>"
      ]
     },
     "execution_count": 4,
     "metadata": {},
     "output_type": "execute_result"
    },
    {
     "data": {
      "image/png": "[encoded data removed]",
      "text/plain": [
       "<Figure size 640x480 with 1 Axes>"
      ]
     },
     "metadata": {},
     "output_type": "display_data"
    }
   ],
   "source": [
    "# Загрузка и отображение первого изображения для проверки\n",
    "first_img = cv2.imread(img_files[0])\n",
    "print(f\"Dimensions of the first image: {first_img.shape}\")\n",
    "plt.imshow(cv2.cvtColor(first_img, cv2.COLOR_BGR2RGB))"
   ]
  },
  {
   "cell_type": "code",
   "execution_count": 5,
   "id": "1d5476ab-0c11-4ad2-8f39-23f7794ee7e0",
   "metadata": {},
   "outputs": [],
   "source": [
    "# Разделение на обучающую и тестовую выборки\n",
    "train_files, test_files = train_test_split(img_files, test_size=0.2, random_state=42)"
   ]
  },
  {
   "cell_type": "code",
   "execution_count": 6,
   "id": "7cfe671d-5e76-405d-907b-88be42b253a6",
   "metadata": {},
   "outputs": [],
   "source": [
    "def preprocess_img(file_path):\n",
    "    image = tf.io.read_file(file_path)\n",
    "    image = tf.image.decode_jpeg(image, channels=3)\n",
    "    image = tf.image.resize(image, [48, 48])\n",
    "    image = image / 255.0 \n",
    "    return image"
   ]
  },
  {
   "cell_type": "code",
   "execution_count": 7,
   "id": "81cb461d-8dfd-46bb-be30-98ef5d5faa2d",
   "metadata": {},
   "outputs": [
    {
     "name": "stdout",
     "output_type": "stream",
     "text": [
      "Train dataset length: 32\n",
      "Test dataset length: 8\n"
     ]
    }
   ],
   "source": [
    "train_dataset = tf.data.Dataset.from_tensor_slices(train_files)\n",
    "train_dataset = train_dataset.map(preprocess_img)\n",
    "train_dataset = tf.data.Dataset.zip((train_dataset, train_dataset)).shuffle(1000).batch(256).prefetch(tf.data.AUTOTUNE)\n",
    "\n",
    "test_dataset = tf.data.Dataset.from_tensor_slices(test_files)\n",
    "test_dataset = test_dataset.map(preprocess_img)\n",
    "test_dataset = tf.data.Dataset.zip((test_dataset, test_dataset)).shuffle(1000).batch(256).prefetch(tf.data.AUTOTUNE)\n",
    "\n",
    "print(f\"Train dataset length: {len(train_dataset)}\")\n",
    "print(f\"Test dataset length: {len(test_dataset)}\")"
   ]
  },
  {
   "cell_type": "code",
   "execution_count": 8,
   "id": "d311e28f-b1fb-4296-938a-c0d56b1a9b98",
   "metadata": {},
   "outputs": [],
   "source": [
    "def img_transform(path_list):\n",
    "    transformed_imgs = []\n",
    "    for path in path_list:\n",
    "        transformed_imgs.append(preprocess_img(path))\n",
    "    return np.stack(transformed_imgs)"
   ]
  },
  {
   "cell_type": "code",
   "execution_count": 9,
   "id": "ee01727c-ed2f-4d08-9faa-2b12e273abb1",
   "metadata": {},
   "outputs": [
    {
     "name": "stdout",
     "output_type": "stream",
     "text": [
      "                                               image  label\n",
      "0  dataset/test/imgs/b9bc8d6d-0cb6-40c2-a38d-61b4...      0\n",
      "1  dataset/test/imgs/9d3893a3-c877-4873-81c5-91aa...      0\n",
      "2  dataset/test/imgs/4f5cef60-bf06-4daf-be8d-a36b...      0\n",
      "3  dataset/test/imgs/37ee27b2-89a3-4b66-98a4-fb39...      0\n",
      "4  dataset/test/imgs/43543d1a-24b6-4018-af56-27fe...      0\n",
      "Total spill images: 154\n"
     ]
    }
   ],
   "source": [
    "df_test_annotations = pd.read_csv(\"dataset/test/test_annotation.txt\", sep=\" \", header=None, names=['image', 'label'])\n",
    "df_test_annotations['image'] = df_test_annotations['image'].apply(lambda x: os.path.join(\"dataset/test/imgs/\", x))\n",
    "\n",
    "# Преобразование тестовых изображений\n",
    "test_images = img_transform(df_test_annotations['image'].values)\n",
    "print(df_test_annotations.head())\n",
    "\n",
    "# Загрузка данных о разливе\n",
    "spill_img_paths = glob.glob(\"dataset/proliv/*.jpg\")\n",
    "print(f\"Total spill images: {len(spill_img_paths)}\")\n",
    "\n",
    "# Преобразование изображений разлива\n",
    "spill_data_transformed = img_transform(spill_img_paths)"
   ]
  },
  {
   "cell_type": "code",
   "execution_count": 10,
   "id": "9acac094-4405-4ce8-86a1-a1b4902c25b3",
   "metadata": {},
   "outputs": [
    {
     "data": {
      "text/html": [
       "<pre style=\"white-space:pre;overflow-x:auto;line-height:normal;font-family:Menlo,'DejaVu Sans Mono',consolas,'Courier New',monospace\"><span style=\"font-weight: bold\">Model: \"functional_1\"</span>\n",
       "</pre>\n"
      ],
      "text/plain": [
       "\u001b[1mModel: \"functional_1\"\u001b[0m\n"
      ]
     },
     "metadata": {},
     "output_type": "display_data"
    },
    {
     "data": {
      "text/html": [
       "<pre style=\"white-space:pre;overflow-x:auto;line-height:normal;font-family:Menlo,'DejaVu Sans Mono',consolas,'Courier New',monospace\">┏━━━━━━━━━━━━━━━━━━━━━━━━━━━━━━━━━┳━━━━━━━━━━━━━━━━━━━━━━━━┳━━━━━━━━━━━━━━━┓\n",
       "┃<span style=\"font-weight: bold\"> Layer (type)                    </span>┃<span style=\"font-weight: bold\"> Output Shape           </span>┃<span style=\"font-weight: bold\">       Param # </span>┃\n",
       "┡━━━━━━━━━━━━━━━━━━━━━━━━━━━━━━━━━╇━━━━━━━━━━━━━━━━━━━━━━━━╇━━━━━━━━━━━━━━━┩\n",
       "│ input_layer (<span style=\"color: #0087ff; text-decoration-color: #0087ff\">InputLayer</span>)        │ (<span style=\"color: #00d7ff; text-decoration-color: #00d7ff\">None</span>, <span style=\"color: #00af00; text-decoration-color: #00af00\">48</span>, <span style=\"color: #00af00; text-decoration-color: #00af00\">48</span>, <span style=\"color: #00af00; text-decoration-color: #00af00\">3</span>)      │             <span style=\"color: #00af00; text-decoration-color: #00af00\">0</span> │\n",
       "├─────────────────────────────────┼────────────────────────┼───────────────┤\n",
       "│ conv2d (<span style=\"color: #0087ff; text-decoration-color: #0087ff\">Conv2D</span>)                 │ (<span style=\"color: #00d7ff; text-decoration-color: #00d7ff\">None</span>, <span style=\"color: #00af00; text-decoration-color: #00af00\">48</span>, <span style=\"color: #00af00; text-decoration-color: #00af00\">48</span>, <span style=\"color: #00af00; text-decoration-color: #00af00\">32</span>)     │           <span style=\"color: #00af00; text-decoration-color: #00af00\">896</span> │\n",
       "├─────────────────────────────────┼────────────────────────┼───────────────┤\n",
       "│ conv2d_1 (<span style=\"color: #0087ff; text-decoration-color: #0087ff\">Conv2D</span>)               │ (<span style=\"color: #00d7ff; text-decoration-color: #00d7ff\">None</span>, <span style=\"color: #00af00; text-decoration-color: #00af00\">24</span>, <span style=\"color: #00af00; text-decoration-color: #00af00\">24</span>, <span style=\"color: #00af00; text-decoration-color: #00af00\">32</span>)     │         <span style=\"color: #00af00; text-decoration-color: #00af00\">9,248</span> │\n",
       "├─────────────────────────────────┼────────────────────────┼───────────────┤\n",
       "│ conv2d_2 (<span style=\"color: #0087ff; text-decoration-color: #0087ff\">Conv2D</span>)               │ (<span style=\"color: #00d7ff; text-decoration-color: #00d7ff\">None</span>, <span style=\"color: #00af00; text-decoration-color: #00af00\">24</span>, <span style=\"color: #00af00; text-decoration-color: #00af00\">24</span>, <span style=\"color: #00af00; text-decoration-color: #00af00\">64</span>)     │        <span style=\"color: #00af00; text-decoration-color: #00af00\">18,496</span> │\n",
       "├─────────────────────────────────┼────────────────────────┼───────────────┤\n",
       "│ conv2d_3 (<span style=\"color: #0087ff; text-decoration-color: #0087ff\">Conv2D</span>)               │ (<span style=\"color: #00d7ff; text-decoration-color: #00d7ff\">None</span>, <span style=\"color: #00af00; text-decoration-color: #00af00\">12</span>, <span style=\"color: #00af00; text-decoration-color: #00af00\">12</span>, <span style=\"color: #00af00; text-decoration-color: #00af00\">64</span>)     │        <span style=\"color: #00af00; text-decoration-color: #00af00\">36,928</span> │\n",
       "├─────────────────────────────────┼────────────────────────┼───────────────┤\n",
       "│ conv2d_4 (<span style=\"color: #0087ff; text-decoration-color: #0087ff\">Conv2D</span>)               │ (<span style=\"color: #00d7ff; text-decoration-color: #00d7ff\">None</span>, <span style=\"color: #00af00; text-decoration-color: #00af00\">12</span>, <span style=\"color: #00af00; text-decoration-color: #00af00\">12</span>, <span style=\"color: #00af00; text-decoration-color: #00af00\">128</span>)    │        <span style=\"color: #00af00; text-decoration-color: #00af00\">73,856</span> │\n",
       "├─────────────────────────────────┼────────────────────────┼───────────────┤\n",
       "│ conv2d_5 (<span style=\"color: #0087ff; text-decoration-color: #0087ff\">Conv2D</span>)               │ (<span style=\"color: #00d7ff; text-decoration-color: #00d7ff\">None</span>, <span style=\"color: #00af00; text-decoration-color: #00af00\">6</span>, <span style=\"color: #00af00; text-decoration-color: #00af00\">6</span>, <span style=\"color: #00af00; text-decoration-color: #00af00\">128</span>)      │       <span style=\"color: #00af00; text-decoration-color: #00af00\">147,584</span> │\n",
       "├─────────────────────────────────┼────────────────────────┼───────────────┤\n",
       "│ conv2d_6 (<span style=\"color: #0087ff; text-decoration-color: #0087ff\">Conv2D</span>)               │ (<span style=\"color: #00d7ff; text-decoration-color: #00d7ff\">None</span>, <span style=\"color: #00af00; text-decoration-color: #00af00\">6</span>, <span style=\"color: #00af00; text-decoration-color: #00af00\">6</span>, <span style=\"color: #00af00; text-decoration-color: #00af00\">128</span>)      │       <span style=\"color: #00af00; text-decoration-color: #00af00\">147,584</span> │\n",
       "├─────────────────────────────────┼────────────────────────┼───────────────┤\n",
       "│ up_sampling2d (<span style=\"color: #0087ff; text-decoration-color: #0087ff\">UpSampling2D</span>)    │ (<span style=\"color: #00d7ff; text-decoration-color: #00d7ff\">None</span>, <span style=\"color: #00af00; text-decoration-color: #00af00\">12</span>, <span style=\"color: #00af00; text-decoration-color: #00af00\">12</span>, <span style=\"color: #00af00; text-decoration-color: #00af00\">128</span>)    │             <span style=\"color: #00af00; text-decoration-color: #00af00\">0</span> │\n",
       "├─────────────────────────────────┼────────────────────────┼───────────────┤\n",
       "│ conv2d_7 (<span style=\"color: #0087ff; text-decoration-color: #0087ff\">Conv2D</span>)               │ (<span style=\"color: #00d7ff; text-decoration-color: #00d7ff\">None</span>, <span style=\"color: #00af00; text-decoration-color: #00af00\">12</span>, <span style=\"color: #00af00; text-decoration-color: #00af00\">12</span>, <span style=\"color: #00af00; text-decoration-color: #00af00\">64</span>)     │        <span style=\"color: #00af00; text-decoration-color: #00af00\">73,792</span> │\n",
       "├─────────────────────────────────┼────────────────────────┼───────────────┤\n",
       "│ up_sampling2d_1 (<span style=\"color: #0087ff; text-decoration-color: #0087ff\">UpSampling2D</span>)  │ (<span style=\"color: #00d7ff; text-decoration-color: #00d7ff\">None</span>, <span style=\"color: #00af00; text-decoration-color: #00af00\">24</span>, <span style=\"color: #00af00; text-decoration-color: #00af00\">24</span>, <span style=\"color: #00af00; text-decoration-color: #00af00\">64</span>)     │             <span style=\"color: #00af00; text-decoration-color: #00af00\">0</span> │\n",
       "├─────────────────────────────────┼────────────────────────┼───────────────┤\n",
       "│ conv2d_8 (<span style=\"color: #0087ff; text-decoration-color: #0087ff\">Conv2D</span>)               │ (<span style=\"color: #00d7ff; text-decoration-color: #00d7ff\">None</span>, <span style=\"color: #00af00; text-decoration-color: #00af00\">24</span>, <span style=\"color: #00af00; text-decoration-color: #00af00\">24</span>, <span style=\"color: #00af00; text-decoration-color: #00af00\">32</span>)     │        <span style=\"color: #00af00; text-decoration-color: #00af00\">18,464</span> │\n",
       "├─────────────────────────────────┼────────────────────────┼───────────────┤\n",
       "│ up_sampling2d_2 (<span style=\"color: #0087ff; text-decoration-color: #0087ff\">UpSampling2D</span>)  │ (<span style=\"color: #00d7ff; text-decoration-color: #00d7ff\">None</span>, <span style=\"color: #00af00; text-decoration-color: #00af00\">48</span>, <span style=\"color: #00af00; text-decoration-color: #00af00\">48</span>, <span style=\"color: #00af00; text-decoration-color: #00af00\">32</span>)     │             <span style=\"color: #00af00; text-decoration-color: #00af00\">0</span> │\n",
       "├─────────────────────────────────┼────────────────────────┼───────────────┤\n",
       "│ conv2d_9 (<span style=\"color: #0087ff; text-decoration-color: #0087ff\">Conv2D</span>)               │ (<span style=\"color: #00d7ff; text-decoration-color: #00d7ff\">None</span>, <span style=\"color: #00af00; text-decoration-color: #00af00\">48</span>, <span style=\"color: #00af00; text-decoration-color: #00af00\">48</span>, <span style=\"color: #00af00; text-decoration-color: #00af00\">3</span>)      │           <span style=\"color: #00af00; text-decoration-color: #00af00\">867</span> │\n",
       "└─────────────────────────────────┴────────────────────────┴───────────────┘\n",
       "</pre>\n"
      ],
      "text/plain": [
       "┏━━━━━━━━━━━━━━━━━━━━━━━━━━━━━━━━━┳━━━━━━━━━━━━━━━━━━━━━━━━┳━━━━━━━━━━━━━━━┓\n",
       "┃\u001b[1m \u001b[0m\u001b[1mLayer (type)                   \u001b[0m\u001b[1m \u001b[0m┃\u001b[1m \u001b[0m\u001b[1mOutput Shape          \u001b[0m\u001b[1m \u001b[0m┃\u001b[1m \u001b[0m\u001b[1m      Param #\u001b[0m\u001b[1m \u001b[0m┃\n",
       "┡━━━━━━━━━━━━━━━━━━━━━━━━━━━━━━━━━╇━━━━━━━━━━━━━━━━━━━━━━━━╇━━━━━━━━━━━━━━━┩\n",
       "│ input_layer (\u001b[38;5;33mInputLayer\u001b[0m)        │ (\u001b[38;5;45mNone\u001b[0m, \u001b[38;5;34m48\u001b[0m, \u001b[38;5;34m48\u001b[0m, \u001b[38;5;34m3\u001b[0m)      │             \u001b[38;5;34m0\u001b[0m │\n",
       "├─────────────────────────────────┼────────────────────────┼───────────────┤\n",
       "│ conv2d (\u001b[38;5;33mConv2D\u001b[0m)                 │ (\u001b[38;5;45mNone\u001b[0m, \u001b[38;5;34m48\u001b[0m, \u001b[38;5;34m48\u001b[0m, \u001b[38;5;34m32\u001b[0m)     │           \u001b[38;5;34m896\u001b[0m │\n",
       "├─────────────────────────────────┼────────────────────────┼───────────────┤\n",
       "│ conv2d_1 (\u001b[38;5;33mConv2D\u001b[0m)               │ (\u001b[38;5;45mNone\u001b[0m, \u001b[38;5;34m24\u001b[0m, \u001b[38;5;34m24\u001b[0m, \u001b[38;5;34m32\u001b[0m)     │         \u001b[38;5;34m9,248\u001b[0m │\n",
       "├─────────────────────────────────┼────────────────────────┼───────────────┤\n",
       "│ conv2d_2 (\u001b[38;5;33mConv2D\u001b[0m)               │ (\u001b[38;5;45mNone\u001b[0m, \u001b[38;5;34m24\u001b[0m, \u001b[38;5;34m24\u001b[0m, \u001b[38;5;34m64\u001b[0m)     │        \u001b[38;5;34m18,496\u001b[0m │\n",
       "├─────────────────────────────────┼────────────────────────┼───────────────┤\n",
       "│ conv2d_3 (\u001b[38;5;33mConv2D\u001b[0m)               │ (\u001b[38;5;45mNone\u001b[0m, \u001b[38;5;34m12\u001b[0m, \u001b[38;5;34m12\u001b[0m, \u001b[38;5;34m64\u001b[0m)     │        \u001b[38;5;34m36,928\u001b[0m │\n",
       "├─────────────────────────────────┼────────────────────────┼───────────────┤\n",
       "│ conv2d_4 (\u001b[38;5;33mConv2D\u001b[0m)               │ (\u001b[38;5;45mNone\u001b[0m, \u001b[38;5;34m12\u001b[0m, \u001b[38;5;34m12\u001b[0m, \u001b[38;5;34m128\u001b[0m)    │        \u001b[38;5;34m73,856\u001b[0m │\n",
       "├─────────────────────────────────┼────────────────────────┼───────────────┤\n",
       "│ conv2d_5 (\u001b[38;5;33mConv2D\u001b[0m)               │ (\u001b[38;5;45mNone\u001b[0m, \u001b[38;5;34m6\u001b[0m, \u001b[38;5;34m6\u001b[0m, \u001b[38;5;34m128\u001b[0m)      │       \u001b[38;5;34m147,584\u001b[0m │\n",
       "├─────────────────────────────────┼────────────────────────┼───────────────┤\n",
       "│ conv2d_6 (\u001b[38;5;33mConv2D\u001b[0m)               │ (\u001b[38;5;45mNone\u001b[0m, \u001b[38;5;34m6\u001b[0m, \u001b[38;5;34m6\u001b[0m, \u001b[38;5;34m128\u001b[0m)      │       \u001b[38;5;34m147,584\u001b[0m │\n",
       "├─────────────────────────────────┼────────────────────────┼───────────────┤\n",
       "│ up_sampling2d (\u001b[38;5;33mUpSampling2D\u001b[0m)    │ (\u001b[38;5;45mNone\u001b[0m, \u001b[38;5;34m12\u001b[0m, \u001b[38;5;34m12\u001b[0m, \u001b[38;5;34m128\u001b[0m)    │             \u001b[38;5;34m0\u001b[0m │\n",
       "├─────────────────────────────────┼────────────────────────┼───────────────┤\n",
       "│ conv2d_7 (\u001b[38;5;33mConv2D\u001b[0m)               │ (\u001b[38;5;45mNone\u001b[0m, \u001b[38;5;34m12\u001b[0m, \u001b[38;5;34m12\u001b[0m, \u001b[38;5;34m64\u001b[0m)     │        \u001b[38;5;34m73,792\u001b[0m │\n",
       "├─────────────────────────────────┼────────────────────────┼───────────────┤\n",
       "│ up_sampling2d_1 (\u001b[38;5;33mUpSampling2D\u001b[0m)  │ (\u001b[38;5;45mNone\u001b[0m, \u001b[38;5;34m24\u001b[0m, \u001b[38;5;34m24\u001b[0m, \u001b[38;5;34m64\u001b[0m)     │             \u001b[38;5;34m0\u001b[0m │\n",
       "├─────────────────────────────────┼────────────────────────┼───────────────┤\n",
       "│ conv2d_8 (\u001b[38;5;33mConv2D\u001b[0m)               │ (\u001b[38;5;45mNone\u001b[0m, \u001b[38;5;34m24\u001b[0m, \u001b[38;5;34m24\u001b[0m, \u001b[38;5;34m32\u001b[0m)     │        \u001b[38;5;34m18,464\u001b[0m │\n",
       "├─────────────────────────────────┼────────────────────────┼───────────────┤\n",
       "│ up_sampling2d_2 (\u001b[38;5;33mUpSampling2D\u001b[0m)  │ (\u001b[38;5;45mNone\u001b[0m, \u001b[38;5;34m48\u001b[0m, \u001b[38;5;34m48\u001b[0m, \u001b[38;5;34m32\u001b[0m)     │             \u001b[38;5;34m0\u001b[0m │\n",
       "├─────────────────────────────────┼────────────────────────┼───────────────┤\n",
       "│ conv2d_9 (\u001b[38;5;33mConv2D\u001b[0m)               │ (\u001b[38;5;45mNone\u001b[0m, \u001b[38;5;34m48\u001b[0m, \u001b[38;5;34m48\u001b[0m, \u001b[38;5;34m3\u001b[0m)      │           \u001b[38;5;34m867\u001b[0m │\n",
       "└─────────────────────────────────┴────────────────────────┴───────────────┘\n"
      ]
     },
     "metadata": {},
     "output_type": "display_data"
    },
    {
     "data": {
      "text/html": [
       "<pre style=\"white-space:pre;overflow-x:auto;line-height:normal;font-family:Menlo,'DejaVu Sans Mono',consolas,'Courier New',monospace\"><span style=\"font-weight: bold\"> Total params: </span><span style=\"color: #00af00; text-decoration-color: #00af00\">527,715</span> (2.01 MB)\n",
       "</pre>\n"
      ],
      "text/plain": [
       "\u001b[1m Total params: \u001b[0m\u001b[38;5;34m527,715\u001b[0m (2.01 MB)\n"
      ]
     },
     "metadata": {},
     "output_type": "display_data"
    },
    {
     "data": {
      "text/html": [
       "<pre style=\"white-space:pre;overflow-x:auto;line-height:normal;font-family:Menlo,'DejaVu Sans Mono',consolas,'Courier New',monospace\"><span style=\"font-weight: bold\"> Trainable params: </span><span style=\"color: #00af00; text-decoration-color: #00af00\">527,715</span> (2.01 MB)\n",
       "</pre>\n"
      ],
      "text/plain": [
       "\u001b[1m Trainable params: \u001b[0m\u001b[38;5;34m527,715\u001b[0m (2.01 MB)\n"
      ]
     },
     "metadata": {},
     "output_type": "display_data"
    },
    {
     "data": {
      "text/html": [
       "<pre style=\"white-space:pre;overflow-x:auto;line-height:normal;font-family:Menlo,'DejaVu Sans Mono',consolas,'Courier New',monospace\"><span style=\"font-weight: bold\"> Non-trainable params: </span><span style=\"color: #00af00; text-decoration-color: #00af00\">0</span> (0.00 B)\n",
       "</pre>\n"
      ],
      "text/plain": [
       "\u001b[1m Non-trainable params: \u001b[0m\u001b[38;5;34m0\u001b[0m (0.00 B)\n"
      ]
     },
     "metadata": {},
     "output_type": "display_data"
    }
   ],
   "source": [
    "input_layer = layers.Input(shape=(48, 48, 3))\n",
    "\n",
    "# Блок свёртки и подвыборки\n",
    "conv1 = layers.Conv2D(32, kernel_size=(3, 3), padding='same', activation='relu')(input_layer)\n",
    "conv2 = layers.Conv2D(32, kernel_size=(3, 3), padding='same', activation='relu', strides=2)(conv1)\n",
    "conv3 = layers.Conv2D(64, kernel_size=(3, 3), padding='same', activation='relu')(conv2)\n",
    "conv4 = layers.Conv2D(64, kernel_size=(3, 3), padding='same', activation='relu', strides=2)(conv3)\n",
    "conv5 = layers.Conv2D(128, kernel_size=(3, 3), padding='same')(conv4)\n",
    "conv6 = layers.Conv2D(128, kernel_size=(3, 3), padding='same', strides=2)(conv5)\n",
    "conv7 = layers.Conv2D(128, kernel_size=(3, 3), padding='same')(conv6)\n",
    "\n",
    "# Блоки апсемплинга\n",
    "up1 = layers.UpSampling2D(2)(conv7)\n",
    "conv8 = layers.Conv2D(64, kernel_size=(3, 3), padding='same')(up1)\n",
    "up2 = layers.UpSampling2D(2)(conv8)\n",
    "conv9 = layers.Conv2D(32, kernel_size=(3, 3), padding='same')(up2)\n",
    "up3 = layers.UpSampling2D(2)(conv9)\n",
    "\n",
    "# Выходной слой\n",
    "output_layer = layers.Conv2D(3, kernel_size=(3, 3), padding='same', activation='sigmoid')(up3)\n",
    "\n",
    "model_arch = models.Model(input_layer, output_layer)\n",
    "model_arch.summary()"
   ]
  },
  {
   "cell_type": "code",
   "execution_count": null,
   "id": "1484ca84-64ba-454b-9676-2eeb3f0b6b51",
   "metadata": {},
   "outputs": [
    {
     "name": "stdout",
     "output_type": "stream",
     "text": [
      "Epoch 1/5\n",
      "\u001b[1m11/32\u001b[0m \u001b[32m━━━━━━\u001b[0m\u001b[37m━━━━━━━━━━━━━━\u001b[0m \u001b[1m10s\u001b[0m 485ms/step - loss: 0.0050"
     ]
    }
   ],
   "source": [
    "model_arch.compile(optimizer=tf.keras.optimizers.Adam(), loss=tf.keras.losses.MeanSquaredError())\n",
    "\n",
    "history = model_arch.fit(\n",
    "    train_dataset, \n",
    "    epochs=5, \n",
    "    validation_data=test_dataset, \n",
    "    callbacks=[tf.keras.callbacks.TensorBoard(log_dir='logs/experiment_1')]\n",
    ")"
   ]
  },
  {
   "cell_type": "code",
   "execution_count": null,
   "id": "488f4e95-7659-4135-a899-879df1b460a4",
   "metadata": {},
   "outputs": [],
   "source": [
    "model_arch.evaluate(test_dataset)"
   ]
  },
  {
   "cell_type": "code",
   "execution_count": null,
   "id": "df9e76d0-9b2b-4c2b-b549-6624f002c591",
   "metadata": {},
   "outputs": [],
   "source": [
    "# Создание DataFrame с историей обучения\n",
    "history_data = pd.DataFrame(history.history)\n",
    "\n",
    "plt.figure(figsize=(10, 6))\n",
    "\n",
    "plt.plot(history_data['loss'], label='Training Loss', color='navy', linewidth=2)\n",
    "plt.plot(history_data['val_loss'], label='Validation Loss', color='skyblue', linewidth=2)\n",
    "plt.title('Model Loss Evolution', fontsize=16)\n",
    "plt.xlabel('Epoch', fontsize=14)\n",
    "plt.ylabel('Loss', fontsize=14)\n",
    "plt.legend(loc='upper right', fontsize=12)\n",
    "plt.grid(True, which='both', linestyle='--', linewidth=0.5)\n",
    "plt.show()"
   ]
  },
  {
   "cell_type": "code",
   "execution_count": null,
   "id": "ad9fa024-31e0-461a-bdc6-33b697d96d8b",
   "metadata": {},
   "outputs": [],
   "source": [
    "# Предсказание для выбранного изображения из обучающего набора\n",
    "sample_img = np.expand_dims(preprocess_img(train_files[10]), 0)\n",
    "predicted_img = model_arch.predict(sample_img)\n",
    "\n",
    "# Визуализация оригинального и обработанного изображения\n",
    "fig, ax = plt.subplots(1, 2, figsize=(10, 5))\n",
    "ax[0].imshow(sample_img[0])\n",
    "ax[0].set_title('Original Image')\n",
    "ax[0].axis('off')\n",
    "ax[1].imshow(predicted_img[0])\n",
    "ax[1].set_title('Transformed Image')\n",
    "ax[1].axis('off')\n",
    "\n",
    "spill_img_paths = glob.glob(\"data/spill_data/*.jpg\")\n",
    "print(f\"Total spill images: {len(spill_img_paths)}\")"
   ]
  },
  {
   "cell_type": "code",
   "execution_count": null,
   "id": "4fc11c95-808e-4a02-8d3b-a928a55bbfc5",
   "metadata": {},
   "outputs": [],
   "source": [
    "spill_sample = np.expand_dims(preprocess_img(spill_img_paths[130]), 0)\n",
    "predicted_spill = model_arch.predict(spill_sample)\n",
    "fig, ax = plt.subplots(1, 2, figsize=(10, 5))\n",
    "ax[0].imshow(spill_sample[0])\n",
    "ax[0].set_title('Original Spill Image')\n",
    "ax[0].axis('off')\n",
    "ax[1].imshow(predicted_spill[0])\n",
    "ax[1].set_title('Processed Spill Image')\n",
    "ax[1].axis('off')\n",
    "\n",
    "# Вычисление среднеквадратичной ошибки для изображения разлива\n",
    "mse_value = np.mean(np.square(spill_sample - predicted_spill))\n",
    "print(f\"MSE = {mse_value}\")"
   ]
  },
  {
   "cell_type": "code",
   "execution_count": null,
   "id": "abc36ba6-1568-4ef9-8088-349417e0ac99",
   "metadata": {},
   "outputs": [],
   "source": [
    "spill_data = img_transform(spill_img_paths)\n",
    "spill_predictions = model_arch.predict(spill_data)\n",
    "\n",
    "mse_spill = np.mean(np.square(spill_data - spill_predictions))\n",
    "print(f\"MSE for spill data: {mse_spill}\")"
   ]
  },
  {
   "cell_type": "code",
   "execution_count": null,
   "id": "82de2e2b-9dc8-4f7d-b06c-d2878d0ee307",
   "metadata": {},
   "outputs": [],
   "source": [
    "original_images = img_transform(spill_img_paths[:1000])\n",
    "\n",
    "spill_data = img_transform(spill_img_paths)\n",
    "spill_predictions = model_arch.predict(spill_data)\n",
    "\n",
    "# Вычисление среднеквадратичной ошибки (MSE) для данных о разливе\n",
    "mse_spill = np.mean(np.square(spill_data - spill_predictions))\n",
    "print(f\"MSE for spill data: {mse_spill}\")\n",
    "\n",
    "# Загрузка небольшого набора оригинальных изображений для оценки\n",
    "original_images = img_transform(spill_img_paths[:1000])\n",
    "\n",
    "# Вычисление MSE для оригинальных изображений\n",
    "mse_list_original = []\n",
    "for original_img in original_images:\n",
    "    prediction = model_arch.predict(np.expand_dims(original_img, axis=0), verbose=0)\n",
    "    mse_list_original.append(np.mean(np.square(original_img - prediction)))\n",
    "\n",
    "# Вычисление среднего значения MSE для оригинальных изображений\n",
    "mse_original = np.mean(mse_list_original)\n",
    "print(f\"MSE for original images: {mse_original}\")"
   ]
  },
  {
   "cell_type": "code",
   "execution_count": null,
   "id": "2da5aed5-41c3-44a0-8608-f86fafc7e60f",
   "metadata": {},
   "outputs": [],
   "source": [
    "sns.set(style=\"whitegrid\")\n",
    "plt.figure(figsize=(10, 6))\n",
    "sns.boxplot(x='class', y='mse', data=mse_data)\n",
    "plt.title('Распределение MSE между оригинальными изображениями и изображениями разлива', fontsize=16)\n",
    "plt.xlabel('Класс', fontsize=14)\n",
    "plt.ylabel('MSE', fontsize=14)\n",
    "plt.xticks([0, 1], ['Оригинальные', 'Разлив'])\n",
    "plt.show()"
   ]
  },
  {
   "cell_type": "code",
   "execution_count": null,
   "id": "f9d5d4d1-c018-4896-adbf-4ea3ab41f89b",
   "metadata": {},
   "outputs": [],
   "source": [
    "mse_data['mse'] *= 100\n",
    "\n",
    "# Обучение модели\n",
    "model_tree = DecisionTreeClassifier(max_depth=1, criterion='entropy')\n",
    "model_tree.fit(mse_data.drop(columns='class'), mse_data['class'])\n",
    "\n",
    "# Визуализация дерева решений\n",
    "fig, ax = plt.subplots(figsize=(10, 10))\n",
    "plot_tree(model_tree, feature_names=['mse'], class_names=['Class 0', 'Class 1'], filled=True, ax=ax)\n",
    "\n",
    "# Установка порога\n",
    "threshold = 0.213\n",
    "\n",
    "# Функция для вычисления TPR и FPR\n",
    "def evaluate_performance(y_true, y_pred):\n",
    "    tn, fp, fn, tp = confusion_matrix(y_true, y_pred).ravel()\n",
    "    tpr = tp / (tp + fn)\n",
    "    fpr = tn / (tn + fp)\n",
    "    return tpr, fpr\n",
    "\n",
    "# Функция для получения предсказаний на основе порога\n",
    "def get_predictions(imgs, preds, threshold):\n",
    "    mse_values = np.mean(np.square(imgs - preds), axis=1)\n",
    "    return (mse_values >= threshold).astype(int)\n",
    "\n",
    "preds = model_arch.predict(test_images)\n",
    "\n",
    "# Применение порога и вычисление показателей\n",
    "threshold /= 100\n",
    "df_test_annotations['predicted'] = get_predictions(test_images, preds, threshold=threshold)\n",
    "\n",
    "# Вычисление и вывод результатов\n",
    "tpr, fpr = evaluate_performance(df_test_annotations['class'], df_test_annotations['predicted'])\n",
    "print(f\"TPR = {tpr:.3f}, FPR = {fpr:.3f}, MSE_threshold = {threshold:.3f}\")\n"
   ]
  },
  {
   "cell_type": "code",
   "execution_count": null,
   "id": "c8083d25-90ba-4fe4-a8fc-47d9ad8ece53",
   "metadata": {},
   "outputs": [],
   "source": [
    "#для удобства отображения \n",
    "mse_data['mse'] = mse_data['mse']*100"
   ]
  },
  {
   "cell_type": "code",
   "execution_count": null,
   "id": "42774122-0573-4c6a-bc31-fb273eddd530",
   "metadata": {},
   "outputs": [],
   "source": [
    "from sklearn.tree import DecisionTreeClassifier\n",
    "from sklearn import tree\n",
    "model_tree = DecisionTreeClassifier(max_depth=1, criterion='entropy').fit(mse_data.drop(columns='class'), mse_data['class'])"
   ]
  },
  {
   "cell_type": "code",
   "execution_count": null,
   "id": "f5b81ab5-057b-4517-9ccd-da07ee73ed6f",
   "metadata": {},
   "outputs": [],
   "source": [
    "fig = plt.figure(figsize=(10, 10))\n",
    "_ = tree.plot_tree(model_tree, feature_names=['mse'], filled=True)"
   ]
  },
  {
   "cell_type": "code",
   "execution_count": null,
   "id": "02681b63-5472-437b-81a2-6d66b6e95cfb",
   "metadata": {},
   "outputs": [],
   "source": [
    "threshold = 0.213 / 100\n",
    "threshold\n",
    "#%% md"
   ]
  },
  {
   "cell_type": "code",
   "execution_count": null,
   "id": "98e54c83-2781-4713-ada9-6fc0bcd0dad9",
   "metadata": {},
   "outputs": [],
   "source": [
    "## Выполним предсказания на тестовом наборе данных\n",
    "#%%"
   ]
  },
  {
   "cell_type": "code",
   "execution_count": null,
   "id": "67e36cd0-8dd7-4b37-b29a-a013e599665e",
   "metadata": {},
   "outputs": [],
   "source": [
    "preds = model_1.predict(test_data)"
   ]
  },
  {
   "cell_type": "code",
   "execution_count": null,
   "id": "13c7548a-9bdf-4c74-b4f6-0f88667b78b2",
   "metadata": {},
   "outputs": [],
   "source": [
    "def get_preds(imgs, preds, threshold=0.1):\n",
    "    labels = []\n",
    "    for i in range(len(preds)):\n",
    "        mse = np.mean(np.square(imgs[i]-preds[i]))\n",
    "        if mse < threshold:\n",
    "            labels.append(0)\n",
    "        else: \n",
    "            labels.append(1)\n",
    "    return np.asarray(labels)"
   ]
  },
  {
   "cell_type": "code",
   "execution_count": null,
   "id": "c2fb6c96-4449-445f-9485-c19cb364649d",
   "metadata": {},
   "outputs": [],
   "source": [
    "tn, fp, fn, tp = confusion_matrix(df_test['class'], get_preds(test_data, preds, threshold=threshold)).ravel()\n",
    "print(\"TPR = {}, FPR = {}, threshold = {}\".format(tp/(tp+fn), tn/(tn+fp), threshold))"
   ]
  },
  {
   "cell_type": "code",
   "execution_count": null,
   "id": "7c67c61c-dbe3-49a9-9c6d-db2ca71448fa",
   "metadata": {},
   "outputs": [],
   "source": [
    "df_test['predicted'] = get_preds(test_data, preds, threshold=threshold)"
   ]
  },
  {
   "cell_type": "code",
   "execution_count": null,
   "id": "172a6a04-bcf6-4b53-95f3-94a1c35a16b5",
   "metadata": {},
   "outputs": [],
   "source": [
    "tn, fp, fn, tp = confusion_matrix(df_test['class'], df_test['predicted']).ravel()\n",
    "print(\"TPR = {}, FPR = {}, MSE_threshold = {}\".format(tp/(tp+fn), tn/(tn+fp), threshold))"
   ]
  },
  {
   "cell_type": "code",
   "execution_count": null,
   "id": "34f3ec6f-d1ad-468c-9105-3c5d54cf284e",
   "metadata": {},
   "outputs": [],
   "source": [
    "if not os.path.exists('Models'):\n",
    "    os.makedirs('Models')\n",
    "\n",
    "model_arch.save(\"Models/hw_2_first.keras\")"
   ]
  }
 ],
 "metadata": {
  "kernelspec": {
   "display_name": "Python 3 (ipykernel)",
   "language": "python",
   "name": "python3"
  },
  "language_info": {
   "codemirror_mode": {
    "name": "ipython",
    "version": 3
   },
   "file_extension": ".py",
   "mimetype": "text/x-python",
   "name": "python",
   "nbconvert_exporter": "python",
   "pygments_lexer": "ipython3",
   "version": "3.11.7"
  }
 },
 "nbformat": 4,
 "nbformat_minor": 5
}
